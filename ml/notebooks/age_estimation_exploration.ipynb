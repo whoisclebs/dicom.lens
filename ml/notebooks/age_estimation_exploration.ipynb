{
 "cells": [
  {
   "cell_type": "markdown",
   "id": "096ee428",
   "metadata": {},
   "source": [
    "# # Third Molar Age Estimation (I3M) Exploration"
   ]
  },
  {
   "cell_type": "code",
   "execution_count": null,
   "id": "e8ccd511",
   "metadata": {},
   "outputs": [],
   "source": [
    "# ## 1. Imports & Utilities\n",
    "import os\n",
    "from pathlib import Path\n",
    "import numpy as np\n",
    "import pandas as pd\n",
    "import matplotlib.pyplot as plt\n",
    "\n",
    "import albumentations as A\n",
    "from scripts.tasks.age_estimation import compute_i3m, build_age_model"
   ]
  },
  {
   "cell_type": "code",
   "execution_count": null,
   "id": "9717270c",
   "metadata": {},
   "outputs": [],
   "source": [
    "# ## 2. Config\n",
    "DATA_DIR = Path('../data/third_molar_age')\n",
    "IMG_SIZE = (224,224)\n",
    "BATCH_SIZE = 8"
   ]
  },
  {
   "cell_type": "code",
   "execution_count": null,
   "id": "5ba525cb",
   "metadata": {},
   "outputs": [],
   "source": [
    "# ## 3. Load Annotations & Compute I3M\n",
    "ann = pd.read_csv(DATA_DIR/'annotations.csv')\n",
    "ann['i3m'] = compute_i3m(ann)\n",
    "ann['label'] = (ann['i3m'] < 0.08).astype(int)\n",
    "ann.head()"
   ]
  },
  {
   "cell_type": "code",
   "execution_count": null,
   "id": "de17aa53",
   "metadata": {},
   "outputs": [],
   "source": [
    "# ## 4. Visualize Bounding Boxes & I3M\n",
    "examples = ann.sample(4)\n",
    "for idx, row in examples.iterrows():\n",
    "    img = plt.imread(DATA_DIR/'images'/row['filename'])\n",
    "    x1,y1,x2,y2 = row[['crown_x1','crown_y1','crown_x2','crown_y2']]\n",
    "    plt.figure(); plt.imshow(img, cmap='bone')\n",
    "    plt.gca().add_patch(plt.Rectangle((x1,y1), x2-x1, y2-y1,\n",
    "                                     edgecolor='r', fill=False))\n",
    "    plt.title(f\\\"I3M={row['i3m']:.2f}, label={row['label']}\\\")\n",
    "    plt.axis('off')"
   ]
  },
  {
   "cell_type": "code",
   "execution_count": null,
   "id": "a52d6e60",
   "metadata": {},
   "outputs": [],
   "source": [
    "# ## 5. Augmentation Pipeline Demo\n",
    "aug = A.Compose([\n",
    "    A.PadIfNeeded(min_height=300,min_width=300, border_mode=0),\n",
    "    A.Rotate(limit=15)\n",
    "])\n",
    "sample = plt.imread(DATA_DIR/'images'/ann.loc[0,'filename'])\n",
    "aug_img = aug(image=sample)['image']\n",
    "plt.imshow(aug_img, cmap='bone'); plt.axis('off')"
   ]
  },
  {
   "cell_type": "code",
   "execution_count": null,
   "id": "d1d6857d",
   "metadata": {},
   "outputs": [],
   "source": [
    "# ## 6. Model Prototype & Quick Fit\n",
    "model = build_age_model(IMG_SIZE)\n",
    "model.summary()"
   ]
  },
  {
   "cell_type": "code",
   "execution_count": null,
   "id": "c8d96dc5",
   "metadata": {},
   "outputs": [],
   "source": [
    "# ## Next Steps\n",
    "# - Full dataset training via `train.py age_estimation …`\n",
    "# - Compare to manual I3M thresholding"
   ]
  }
 ],
 "metadata": {
  "language_info": {
   "name": "python"
  }
 },
 "nbformat": 4,
 "nbformat_minor": 5
}
