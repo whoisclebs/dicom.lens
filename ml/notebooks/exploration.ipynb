{
 "cells": [
  {
   "cell_type": "code",
   "execution_count": null,
   "metadata": {},
   "outputs": [],
   "source": [
    "\"\"\"\n",
    "## Setup and Imports\n",
    "\"\"\"\n",
    "import os\n",
    "from pathlib import Path\n",
    "import numpy as np\n",
    "import matplotlib.pyplot as plt\n",
    "import tensorflow as tf\n",
    "\n",
    "# Import functions from our training script\n",
    "from scripts.train import load_dataset, build_model\n"
   ]
  },
  {
   "cell_type": "code",
   "execution_count": null,
   "metadata": {},
   "outputs": [],
   "source": [
    "\"\"\"\n",
    "## Configuration\n",
    "\"\"\"\n",
    "DATA_DIR = Path('../data')               # Base data directory\n",
    "IMG_SIZE = (224, 224)                    # Image dimensions\n",
    "BATCH_SIZE = 8                           # Small batch for quick iteration"
   ]
  },
  {
   "cell_type": "code",
   "execution_count": null,
   "metadata": {},
   "outputs": [],
   "source": [
    "\"\"\"\n",
    "## Visualize Sample Images\n",
    "\"\"\"\n",
    "# Load a small batch for visualization\n",
    "train_ds = load_dataset(DATA_DIR / 'train', IMG_SIZE, BATCH_SIZE, shuffle=True)\n",
    "class_names = train_ds.class_names\n",
    "\n",
    "for images, labels in train_ds.take(1):\n",
    "    plt.figure(figsize=(12, 6))\n",
    "    for i in range(9):\n",
    "        ax = plt.subplot(3, 3, i + 1)\n",
    "        plt.imshow(images[i].numpy().astype('uint8'))\n",
    "        plt.title(class_names[int(labels[i])])\n",
    "        plt.axis('off')\n",
    "    plt.show()"
   ]
  },
  {
   "cell_type": "code",
   "execution_count": null,
   "metadata": {},
   "outputs": [],
   "source": [
    "\"\"\"\n",
    "## Prototype Model Architecture\n",
    "\"\"\"\n",
    "# Build and summarize the model\n",
    "model = build_model(IMG_SIZE)\n",
    "model.summary()"
   ]
  },
  {
   "cell_type": "code",
   "execution_count": null,
   "metadata": {},
   "outputs": [],
   "source": [
    "\"\"\"\n",
    "## Quick Training Run\n",
    "\"\"\"\n",
    "# Train on a few batches to verify the pipeline\n",
    "history = model.fit(\n",
    "    train_ds.take(10),           # only 10 batches\n",
    "    validation_data=train_ds.take(2),  # small validation\n",
    "    epochs=1\n",
    ")"
   ]
  },
  {
   "cell_type": "code",
   "execution_count": null,
   "metadata": {},
   "outputs": [],
   "source": [
    "\"\"\"\n",
    "## Plot Loss and Accuracy Curves\n",
    "\"\"\"\n",
    "plt.figure(figsize=(10, 4))\n",
    "plt.subplot(1, 2, 1)\n",
    "plt.plot(history.history['loss'], label='train_loss')\n",
    "plt.plot(history.history['val_loss'], label='val_loss')\n",
    "plt.legend(); plt.title('Loss')\n",
    "\n",
    "plt.subplot(1, 2, 2)\n",
    "plt.plot(history.history['accuracy'], label='train_acc')\n",
    "plt.plot(history.history['val_accuracy'], label='val_acc')\n",
    "plt.legend(); plt.title('Accuracy')\n",
    "plt.show()"
   ]
  },
  {
   "cell_type": "code",
   "execution_count": null,
   "metadata": {},
   "outputs": [],
   "source": [
    "\"\"\"\n",
    "## Evaluate on Validation Set\n",
    "\"\"\"\n",
    "val_ds = load_dataset(DATA_DIR / 'validation', IMG_SIZE, BATCH_SIZE, shuffle=False)\n",
    "eval_results = model.evaluate(val_ds.take(5))  # small subset\n",
    "print(f\"Validation (subset) - Loss: {eval_results[0]:.4f}, Accuracy: {eval_results[1]:.4f}\")"
   ]
  }
 ],
 "metadata": {
  "kernelspec": {
   "display_name": "Python 3.10.6 64-bit",
   "language": "python",
   "name": "python3"
  },
  "language_info": {
   "codemirror_mode": {
    "name": "ipython",
    "version": 3
   },
   "file_extension": ".py",
   "mimetype": "text/x-python",
   "name": "python",
   "nbconvert_exporter": "python",
   "pygments_lexer": "ipython3",
   "version": "3.10.6"
  },
  "vscode": {
   "interpreter": {
    "hash": "916dbcbb3f70747c44a77c7bcd40155683ae19c65e1c03b4aa3499c5328201f1"
   }
  }
 },
 "nbformat": 4,
 "nbformat_minor": 4
}
